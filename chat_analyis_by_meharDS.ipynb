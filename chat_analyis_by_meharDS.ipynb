{
 "cells": [
  {
   "cell_type": "code",
   "execution_count": 1,
   "id": "ae102cf0",
   "metadata": {},
   "outputs": [],
   "source": [
    "import re\n",
    "import pandas as pd "
   ]
  },
  {
   "cell_type": "code",
   "execution_count": 2,
   "id": "a0b06c98",
   "metadata": {},
   "outputs": [],
   "source": [
    "f = open('WhatsApp Chat with CSPC_PMDU.txt', 'r', encoding='utf-8')\n",
    "data=f.read()"
   ]
  },
  {
   "cell_type": "code",
   "execution_count": 3,
   "id": "f388718b",
   "metadata": {},
   "outputs": [
    {
     "data": {
      "text/plain": [
       "3427"
      ]
     },
     "execution_count": 3,
     "metadata": {},
     "output_type": "execute_result"
    }
   ],
   "source": [
    "pattern = '\\d{1,2}/\\d{1,2}/\\d{1,2},\\s\\d{1,2}:\\d{2}\\s\\w{2}\\s-\\s'\n",
    "messages = re.split(pattern, data)[1:]\n",
    "len(messages)"
   ]
  },
  {
   "cell_type": "code",
   "execution_count": 4,
   "id": "c8eb64c9",
   "metadata": {},
   "outputs": [
    {
     "data": {
      "text/plain": [
       "3427"
      ]
     },
     "execution_count": 4,
     "metadata": {},
     "output_type": "execute_result"
    }
   ],
   "source": [
    "dates=re.findall(pattern, data)\n",
    "len(dates)"
   ]
  },
  {
   "cell_type": "code",
   "execution_count": 5,
   "id": "8580a6b3",
   "metadata": {},
   "outputs": [],
   "source": [
    "df= pd.DataFrame({'user_massage':messages, 'massage_date':dates})"
   ]
  },
  {
   "cell_type": "code",
   "execution_count": 6,
   "id": "2248dcc0",
   "metadata": {},
   "outputs": [
    {
     "data": {
      "text/plain": [
       "0       5/14/19, 10:10 PM - \n",
       "1       5/14/19, 10:06 PM - \n",
       "2       5/14/19, 10:10 PM - \n",
       "3       5/14/19, 10:11 PM - \n",
       "4       5/14/19, 10:11 PM - \n",
       "                ...         \n",
       "3422      3/4/24, 1:13 PM - \n",
       "3423      3/4/24, 6:34 PM - \n",
       "3424      3/5/24, 1:57 PM - \n",
       "3425     3/6/24, 10:51 AM - \n",
       "3426     3/6/24, 11:35 AM - \n",
       "Name: massage_date, Length: 3427, dtype: object"
      ]
     },
     "execution_count": 6,
     "metadata": {},
     "output_type": "execute_result"
    }
   ],
   "source": [
    "# convert message_date type\n",
    "df['massage_date']"
   ]
  },
  {
   "cell_type": "code",
   "execution_count": 7,
   "id": "34aa51f2",
   "metadata": {},
   "outputs": [],
   "source": [
    "df['massage_date'] = df['massage_date'].str.replace(\"-\",\"\").str.strip()\n",
    "df['massage_date'] = df['massage_date'].str.replace(\"/\",\".\")\n",
    "df['massage_date'] = df['massage_date'].str.replace(\",\",\"\")\n",
    "df['massage_date'] = pd.to_datetime(df['massage_date'])"
   ]
  },
  {
   "cell_type": "code",
   "execution_count": 8,
   "id": "312a45df",
   "metadata": {},
   "outputs": [],
   "source": [
    "df.rename(columns={'massage_date':'date'}, inplace=True)"
   ]
  },
  {
   "cell_type": "code",
   "execution_count": 9,
   "id": "75bc9ddd",
   "metadata": {},
   "outputs": [],
   "source": [
    "users=[]\n",
    "massages=[]\n",
    "for massage in df['user_massage']:\n",
    "    entry = re.split('([\\w\\W]+?):\\s', massage)\n",
    "    if entry[1:]: #user_name\n",
    "        users.append(entry[1])\n",
    "        massages.append(\" \".join(entry[2:]))\n",
    "    else:\n",
    "        users.append('group_notification')\n",
    "        massages.append(entry[0])"
   ]
  },
  {
   "cell_type": "code",
   "execution_count": 10,
   "id": "c531a8e3",
   "metadata": {},
   "outputs": [],
   "source": [
    "df['users'] = users\n",
    "df['massages'] = massages"
   ]
  },
  {
   "cell_type": "code",
   "execution_count": 11,
   "id": "9601bdff",
   "metadata": {},
   "outputs": [],
   "source": [
    "df['only_date'] = df['date'].dt.date\n"
   ]
  },
  {
   "cell_type": "code",
   "execution_count": 12,
   "id": "d1ab3df3",
   "metadata": {},
   "outputs": [],
   "source": [
    "df['year'] = df['date'].dt.year\n"
   ]
  },
  {
   "cell_type": "code",
   "execution_count": 13,
   "id": "28f983de",
   "metadata": {},
   "outputs": [],
   "source": [
    "df['month_name']=df['date'].dt.month_name()\n"
   ]
  },
  {
   "cell_type": "code",
   "execution_count": 14,
   "id": "d258e074",
   "metadata": {},
   "outputs": [],
   "source": [
    "df['month_num'] = df['date'].dt.month\n"
   ]
  },
  {
   "cell_type": "code",
   "execution_count": 15,
   "id": "a978eb50",
   "metadata": {},
   "outputs": [],
   "source": [
    "df['day'] = df['date'].dt.day"
   ]
  },
  {
   "cell_type": "code",
   "execution_count": 16,
   "id": "92897cfc",
   "metadata": {},
   "outputs": [],
   "source": [
    "df['day'] = df['date'].dt.day_name()\n"
   ]
  },
  {
   "cell_type": "code",
   "execution_count": 17,
   "id": "33b46479",
   "metadata": {},
   "outputs": [],
   "source": [
    "df['hour']= df['date'].dt.hour\n"
   ]
  },
  {
   "cell_type": "code",
   "execution_count": 18,
   "id": "03aba4e2",
   "metadata": {},
   "outputs": [],
   "source": [
    "df['minute']= df['date'].dt.minute\n"
   ]
  },
  {
   "cell_type": "code",
   "execution_count": 19,
   "id": "c4d8cf07",
   "metadata": {},
   "outputs": [],
   "source": [
    "df['second']= df['date'].dt.second\n"
   ]
  },
  {
   "cell_type": "code",
   "execution_count": 20,
   "id": "47b5ffb2",
   "metadata": {},
   "outputs": [],
   "source": [
    "user_list = df['users'].unique().tolist()\n",
    "user_list.remove('group_notification')\n",
    "user_list.sort()"
   ]
  },
  {
   "cell_type": "code",
   "execution_count": 21,
   "id": "d22abdba",
   "metadata": {},
   "outputs": [],
   "source": [
    "user_list.insert(0,\"Overall\")"
   ]
  },
  {
   "cell_type": "code",
   "execution_count": 22,
   "id": "45a2fe40",
   "metadata": {},
   "outputs": [
    {
     "data": {
      "text/plain": [
       "3427"
      ]
     },
     "execution_count": 22,
     "metadata": {},
     "output_type": "execute_result"
    }
   ],
   "source": [
    "df['massages'].shape[0]"
   ]
  },
  {
   "cell_type": "code",
   "execution_count": 23,
   "id": "e48c0451",
   "metadata": {},
   "outputs": [
    {
     "data": {
      "text/plain": [
       "3427"
      ]
     },
     "execution_count": 23,
     "metadata": {},
     "output_type": "execute_result"
    }
   ],
   "source": [
    "len(df['massages'])"
   ]
  },
  {
   "cell_type": "code",
   "execution_count": 24,
   "id": "0d12dde3",
   "metadata": {},
   "outputs": [],
   "source": [
    "words = []\n",
    "for massage in df['massages']:\n",
    "    words.extend(massage.split())"
   ]
  },
  {
   "cell_type": "code",
   "execution_count": 25,
   "id": "b607b974",
   "metadata": {},
   "outputs": [
    {
     "data": {
      "text/plain": [
       "36903"
      ]
     },
     "execution_count": 25,
     "metadata": {},
     "output_type": "execute_result"
    }
   ],
   "source": [
    "len(words)"
   ]
  },
  {
   "cell_type": "code",
   "execution_count": 26,
   "id": "1dfc5eb3",
   "metadata": {},
   "outputs": [],
   "source": [
    "num_media_messages = df[df['massages'] == '<Media omitted>\\n']"
   ]
  },
  {
   "cell_type": "code",
   "execution_count": 27,
   "id": "54213e8f",
   "metadata": {},
   "outputs": [
    {
     "data": {
      "text/plain": [
       "2307"
      ]
     },
     "execution_count": 27,
     "metadata": {},
     "output_type": "execute_result"
    }
   ],
   "source": [
    "len(num_media_messages)"
   ]
  },
  {
   "cell_type": "code",
   "execution_count": 28,
   "id": "a6dfb857",
   "metadata": {},
   "outputs": [
    {
     "ename": "ModuleNotFoundError",
     "evalue": "No module named 'urlextract'",
     "output_type": "error",
     "traceback": [
      "\u001b[1;31m---------------------------------------------------------------------------\u001b[0m",
      "\u001b[1;31mModuleNotFoundError\u001b[0m                       Traceback (most recent call last)",
      "Cell \u001b[1;32mIn[28], line 1\u001b[0m\n\u001b[1;32m----> 1\u001b[0m \u001b[38;5;28;01mfrom\u001b[39;00m \u001b[38;5;21;01murlextract\u001b[39;00m \u001b[38;5;28;01mimport\u001b[39;00m URLExtract\n\u001b[0;32m      2\u001b[0m extract \u001b[38;5;241m=\u001b[39m URLExtract()\n\u001b[0;32m      3\u001b[0m num_links \u001b[38;5;241m=\u001b[39m []\n",
      "\u001b[1;31mModuleNotFoundError\u001b[0m: No module named 'urlextract'"
     ]
    }
   ],
   "source": [
    "from urlextract import URLExtract\n",
    "extract = URLExtract()\n",
    "num_links = []\n",
    "for massage in df['massages']:\n",
    "    words.extend(extract.find_urls(massage))"
   ]
  },
  {
   "cell_type": "code",
   "execution_count": 29,
   "id": "554c7b6c",
   "metadata": {},
   "outputs": [],
   "source": [
    "x=df['users'].value_counts().head()\n",
    "Busy_users_df = round((df['users'].value_counts() / df.shape[0]) * 100, 2).reset_index().rename(columns={'index' : 'User_name', 'users' : 'Percent'})"
   ]
  },
  {
   "cell_type": "code",
   "execution_count": 30,
   "id": "c15bce42",
   "metadata": {},
   "outputs": [],
   "source": [
    "f = open('stop_hinglish.txt', 'r')\n",
    "stop_words = f.read()"
   ]
  },
  {
   "cell_type": "code",
   "execution_count": 31,
   "id": "69190be1",
   "metadata": {},
   "outputs": [],
   "source": [
    "temp = df[df['users'] != 'group_notification']"
   ]
  },
  {
   "cell_type": "code",
   "execution_count": 32,
   "id": "fc5de5ac",
   "metadata": {},
   "outputs": [],
   "source": [
    "temp = temp[temp['massages'] != '<Media omitted>\\n']"
   ]
  },
  {
   "cell_type": "code",
   "execution_count": 33,
   "id": "b8e75451",
   "metadata": {},
   "outputs": [],
   "source": [
    "def remove_stop_words(massage):\n",
    "    y = []\n",
    "    for word in massage.lower().split():\n",
    "        if word not in stop_words:\n",
    "            y.append(word)\n",
    "    return \" \".join(y)"
   ]
  },
  {
   "cell_type": "code",
   "execution_count": 34,
   "id": "b3332b42",
   "metadata": {},
   "outputs": [],
   "source": [
    "temp['massages'] = temp['massages'].apply(remove_stop_words)"
   ]
  },
  {
   "cell_type": "code",
   "execution_count": null,
   "id": "76d8e8a4",
   "metadata": {},
   "outputs": [],
   "source": [
    "from wordcloud import WordCloud\n",
    "wc = WordCloud()\n",
    "df_wc = wc.generate(temp['massages'].str.cat(sep=\" \"))\n"
   ]
  },
  {
   "cell_type": "code",
   "execution_count": null,
   "id": "05562150",
   "metadata": {},
   "outputs": [],
   "source": [
    "import matplotlib.pyplot as plt\n",
    "fig,ax = plt.subplots()\n",
    "#ax.imshow(df_wc)"
   ]
  },
  {
   "cell_type": "code",
   "execution_count": null,
   "id": "9e762b5e",
   "metadata": {},
   "outputs": [],
   "source": [
    "def common_words(massage):\n",
    "    y = []\n",
    "    for word in massage.lower().split():\n",
    "        if word not in stop_words:\n",
    "            y.append(word)\n",
    "    return y\n",
    "words = temp['massages'].apply(common_words)"
   ]
  },
  {
   "cell_type": "code",
   "execution_count": 36,
   "id": "e2052f2f",
   "metadata": {},
   "outputs": [],
   "source": [
    "busy_day = df['day'].value_counts().reset_index().rename(columns={'index':'day','day':'massages'})"
   ]
  },
  {
   "cell_type": "code",
   "execution_count": 58,
   "id": "61b194c6",
   "metadata": {},
   "outputs": [],
   "source": [
    "daily_timeline = df.groupby(['only_date']).count()['massages'].reset_index()"
   ]
  },
  {
   "cell_type": "code",
   "execution_count": 57,
   "id": "03db47c0",
   "metadata": {},
   "outputs": [],
   "source": [
    "busy_month=df['month_name'].value_counts()"
   ]
  },
  {
   "cell_type": "code",
   "execution_count": 55,
   "id": "54d92de6",
   "metadata": {},
   "outputs": [],
   "source": [
    "montly_timeline = df.groupby(['year', 'month_num', 'month_name']).count()['massages'].reset_index() #reset_index() convert it to DataFrame\n",
    "time = []\n",
    "for i in range (montly_timeline.shape[0]):\n",
    "    time.append(montly_timeline['month_name'][i] + \" \" + str(montly_timeline['year'][i]))\n",
    "\n",
    "montly_timeline ['time']  = time"
   ]
  },
  {
   "cell_type": "code",
   "execution_count": 59,
   "id": "7e79acb7",
   "metadata": {},
   "outputs": [
    {
     "data": {
      "text/html": [
       "<div>\n",
       "<style scoped>\n",
       "    .dataframe tbody tr th:only-of-type {\n",
       "        vertical-align: middle;\n",
       "    }\n",
       "\n",
       "    .dataframe tbody tr th {\n",
       "        vertical-align: top;\n",
       "    }\n",
       "\n",
       "    .dataframe thead th {\n",
       "        text-align: right;\n",
       "    }\n",
       "</style>\n",
       "<table border=\"1\" class=\"dataframe\">\n",
       "  <thead>\n",
       "    <tr style=\"text-align: right;\">\n",
       "      <th></th>\n",
       "      <th>user_massage</th>\n",
       "      <th>date</th>\n",
       "      <th>users</th>\n",
       "      <th>massages</th>\n",
       "      <th>only_date</th>\n",
       "      <th>year</th>\n",
       "      <th>month_name</th>\n",
       "      <th>month_num</th>\n",
       "      <th>day</th>\n",
       "      <th>hour</th>\n",
       "      <th>minute</th>\n",
       "      <th>second</th>\n",
       "    </tr>\n",
       "  </thead>\n",
       "  <tbody>\n",
       "    <tr>\n",
       "      <th>0</th>\n",
       "      <td>Messages and calls are end-to-end encrypted. N...</td>\n",
       "      <td>2019-05-14 22:10:00</td>\n",
       "      <td>group_notification</td>\n",
       "      <td>Messages and calls are end-to-end encrypted. N...</td>\n",
       "      <td>2019-05-14</td>\n",
       "      <td>2019</td>\n",
       "      <td>May</td>\n",
       "      <td>5</td>\n",
       "      <td>Tuesday</td>\n",
       "      <td>22</td>\n",
       "      <td>10</td>\n",
       "      <td>0</td>\n",
       "    </tr>\n",
       "    <tr>\n",
       "      <th>1</th>\n",
       "      <td>Ahmad Sb CSPC created group \"Office\"\\n</td>\n",
       "      <td>2019-05-14 22:06:00</td>\n",
       "      <td>group_notification</td>\n",
       "      <td>Ahmad Sb CSPC created group \"Office\"\\n</td>\n",
       "      <td>2019-05-14</td>\n",
       "      <td>2019</td>\n",
       "      <td>May</td>\n",
       "      <td>5</td>\n",
       "      <td>Tuesday</td>\n",
       "      <td>22</td>\n",
       "      <td>6</td>\n",
       "      <td>0</td>\n",
       "    </tr>\n",
       "    <tr>\n",
       "      <th>2</th>\n",
       "      <td>Ahmad Sb CSPC added you\\n</td>\n",
       "      <td>2019-05-14 22:10:00</td>\n",
       "      <td>group_notification</td>\n",
       "      <td>Ahmad Sb CSPC added you\\n</td>\n",
       "      <td>2019-05-14</td>\n",
       "      <td>2019</td>\n",
       "      <td>May</td>\n",
       "      <td>5</td>\n",
       "      <td>Tuesday</td>\n",
       "      <td>22</td>\n",
       "      <td>10</td>\n",
       "      <td>0</td>\n",
       "    </tr>\n",
       "    <tr>\n",
       "      <th>3</th>\n",
       "      <td>Azam DEO ITBP 2: Asslamoalaikum sir\\n</td>\n",
       "      <td>2019-05-14 22:11:00</td>\n",
       "      <td>Azam DEO ITBP 2</td>\n",
       "      <td>Asslamoalaikum sir\\n</td>\n",
       "      <td>2019-05-14</td>\n",
       "      <td>2019</td>\n",
       "      <td>May</td>\n",
       "      <td>5</td>\n",
       "      <td>Tuesday</td>\n",
       "      <td>22</td>\n",
       "      <td>11</td>\n",
       "      <td>0</td>\n",
       "    </tr>\n",
       "    <tr>\n",
       "      <th>4</th>\n",
       "      <td>Azam DEO ITBP 2: Good idea for group\\n</td>\n",
       "      <td>2019-05-14 22:11:00</td>\n",
       "      <td>Azam DEO ITBP 2</td>\n",
       "      <td>Good idea for group\\n</td>\n",
       "      <td>2019-05-14</td>\n",
       "      <td>2019</td>\n",
       "      <td>May</td>\n",
       "      <td>5</td>\n",
       "      <td>Tuesday</td>\n",
       "      <td>22</td>\n",
       "      <td>11</td>\n",
       "      <td>0</td>\n",
       "    </tr>\n",
       "  </tbody>\n",
       "</table>\n",
       "</div>"
      ],
      "text/plain": [
       "                                        user_massage                date  \\\n",
       "0  Messages and calls are end-to-end encrypted. N... 2019-05-14 22:10:00   \n",
       "1             Ahmad Sb CSPC created group \"Office\"\\n 2019-05-14 22:06:00   \n",
       "2                          Ahmad Sb CSPC added you\\n 2019-05-14 22:10:00   \n",
       "3              Azam DEO ITBP 2: Asslamoalaikum sir\\n 2019-05-14 22:11:00   \n",
       "4             Azam DEO ITBP 2: Good idea for group\\n 2019-05-14 22:11:00   \n",
       "\n",
       "                users                                           massages  \\\n",
       "0  group_notification  Messages and calls are end-to-end encrypted. N...   \n",
       "1  group_notification             Ahmad Sb CSPC created group \"Office\"\\n   \n",
       "2  group_notification                          Ahmad Sb CSPC added you\\n   \n",
       "3     Azam DEO ITBP 2                               Asslamoalaikum sir\\n   \n",
       "4     Azam DEO ITBP 2                              Good idea for group\\n   \n",
       "\n",
       "    only_date  year month_name  month_num      day  hour  minute  second  \n",
       "0  2019-05-14  2019        May          5  Tuesday    22      10       0  \n",
       "1  2019-05-14  2019        May          5  Tuesday    22       6       0  \n",
       "2  2019-05-14  2019        May          5  Tuesday    22      10       0  \n",
       "3  2019-05-14  2019        May          5  Tuesday    22      11       0  \n",
       "4  2019-05-14  2019        May          5  Tuesday    22      11       0  "
      ]
     },
     "execution_count": 59,
     "metadata": {},
     "output_type": "execute_result"
    }
   ],
   "source": [
    "df.head()"
   ]
  },
  {
   "cell_type": "code",
   "execution_count": 64,
   "id": "f09a8bda",
   "metadata": {},
   "outputs": [],
   "source": [
    "daily_timeline=df.groupby(['only_date']).count()['massages'].reset_index()"
   ]
  },
  {
   "cell_type": "code",
   "execution_count": 75,
   "id": "482a034c",
   "metadata": {},
   "outputs": [],
   "source": [
    "period = []\n",
    "for hour in df[['day', 'hour']]['hour']:\n",
    "    if hour == 23:\n",
    "        period.append(str(hour) + \"-\" + str('00'))\n",
    "    elif hour == 0:\n",
    "        period.append(str('00') + \"-\" + str(hour + 1))\n",
    "    else:\n",
    "        period.append(str(hour) + \"-\" + str(hour + 1))\n",
    "\n",
    "df['period'] = period"
   ]
  },
  {
   "cell_type": "code",
   "execution_count": 79,
   "id": "9f99dbea",
   "metadata": {},
   "outputs": [
    {
     "data": {
      "text/html": [
       "<div>\n",
       "<style scoped>\n",
       "    .dataframe tbody tr th:only-of-type {\n",
       "        vertical-align: middle;\n",
       "    }\n",
       "\n",
       "    .dataframe tbody tr th {\n",
       "        vertical-align: top;\n",
       "    }\n",
       "\n",
       "    .dataframe thead th {\n",
       "        text-align: right;\n",
       "    }\n",
       "</style>\n",
       "<table border=\"1\" class=\"dataframe\">\n",
       "  <thead>\n",
       "    <tr style=\"text-align: right;\">\n",
       "      <th>period</th>\n",
       "      <th>00-1</th>\n",
       "      <th>1-2</th>\n",
       "      <th>10-11</th>\n",
       "      <th>11-12</th>\n",
       "      <th>12-13</th>\n",
       "      <th>13-14</th>\n",
       "      <th>14-15</th>\n",
       "      <th>15-16</th>\n",
       "      <th>16-17</th>\n",
       "      <th>17-18</th>\n",
       "      <th>...</th>\n",
       "      <th>21-22</th>\n",
       "      <th>22-23</th>\n",
       "      <th>23-00</th>\n",
       "      <th>3-4</th>\n",
       "      <th>4-5</th>\n",
       "      <th>5-6</th>\n",
       "      <th>6-7</th>\n",
       "      <th>7-8</th>\n",
       "      <th>8-9</th>\n",
       "      <th>9-10</th>\n",
       "    </tr>\n",
       "    <tr>\n",
       "      <th>day</th>\n",
       "      <th></th>\n",
       "      <th></th>\n",
       "      <th></th>\n",
       "      <th></th>\n",
       "      <th></th>\n",
       "      <th></th>\n",
       "      <th></th>\n",
       "      <th></th>\n",
       "      <th></th>\n",
       "      <th></th>\n",
       "      <th></th>\n",
       "      <th></th>\n",
       "      <th></th>\n",
       "      <th></th>\n",
       "      <th></th>\n",
       "      <th></th>\n",
       "      <th></th>\n",
       "      <th></th>\n",
       "      <th></th>\n",
       "      <th></th>\n",
       "      <th></th>\n",
       "    </tr>\n",
       "  </thead>\n",
       "  <tbody>\n",
       "    <tr>\n",
       "      <th>Friday</th>\n",
       "      <td>14.0</td>\n",
       "      <td>1.0</td>\n",
       "      <td>20.0</td>\n",
       "      <td>25.0</td>\n",
       "      <td>75.0</td>\n",
       "      <td>60.0</td>\n",
       "      <td>24.0</td>\n",
       "      <td>104.0</td>\n",
       "      <td>33.0</td>\n",
       "      <td>25.0</td>\n",
       "      <td>...</td>\n",
       "      <td>7.0</td>\n",
       "      <td>58.0</td>\n",
       "      <td>31.0</td>\n",
       "      <td>6.0</td>\n",
       "      <td>8.0</td>\n",
       "      <td>2.0</td>\n",
       "      <td>4.0</td>\n",
       "      <td>13.0</td>\n",
       "      <td>5.0</td>\n",
       "      <td>44.0</td>\n",
       "    </tr>\n",
       "    <tr>\n",
       "      <th>Monday</th>\n",
       "      <td>4.0</td>\n",
       "      <td>3.0</td>\n",
       "      <td>14.0</td>\n",
       "      <td>20.0</td>\n",
       "      <td>18.0</td>\n",
       "      <td>18.0</td>\n",
       "      <td>79.0</td>\n",
       "      <td>84.0</td>\n",
       "      <td>15.0</td>\n",
       "      <td>13.0</td>\n",
       "      <td>...</td>\n",
       "      <td>4.0</td>\n",
       "      <td>54.0</td>\n",
       "      <td>11.0</td>\n",
       "      <td>3.0</td>\n",
       "      <td>0.0</td>\n",
       "      <td>1.0</td>\n",
       "      <td>3.0</td>\n",
       "      <td>6.0</td>\n",
       "      <td>6.0</td>\n",
       "      <td>48.0</td>\n",
       "    </tr>\n",
       "    <tr>\n",
       "      <th>Saturday</th>\n",
       "      <td>4.0</td>\n",
       "      <td>3.0</td>\n",
       "      <td>7.0</td>\n",
       "      <td>14.0</td>\n",
       "      <td>25.0</td>\n",
       "      <td>15.0</td>\n",
       "      <td>42.0</td>\n",
       "      <td>12.0</td>\n",
       "      <td>19.0</td>\n",
       "      <td>7.0</td>\n",
       "      <td>...</td>\n",
       "      <td>43.0</td>\n",
       "      <td>13.0</td>\n",
       "      <td>130.0</td>\n",
       "      <td>4.0</td>\n",
       "      <td>4.0</td>\n",
       "      <td>8.0</td>\n",
       "      <td>1.0</td>\n",
       "      <td>10.0</td>\n",
       "      <td>15.0</td>\n",
       "      <td>10.0</td>\n",
       "    </tr>\n",
       "    <tr>\n",
       "      <th>Sunday</th>\n",
       "      <td>13.0</td>\n",
       "      <td>87.0</td>\n",
       "      <td>64.0</td>\n",
       "      <td>13.0</td>\n",
       "      <td>15.0</td>\n",
       "      <td>53.0</td>\n",
       "      <td>11.0</td>\n",
       "      <td>9.0</td>\n",
       "      <td>18.0</td>\n",
       "      <td>16.0</td>\n",
       "      <td>...</td>\n",
       "      <td>28.0</td>\n",
       "      <td>25.0</td>\n",
       "      <td>19.0</td>\n",
       "      <td>4.0</td>\n",
       "      <td>2.0</td>\n",
       "      <td>1.0</td>\n",
       "      <td>3.0</td>\n",
       "      <td>3.0</td>\n",
       "      <td>4.0</td>\n",
       "      <td>6.0</td>\n",
       "    </tr>\n",
       "    <tr>\n",
       "      <th>Thursday</th>\n",
       "      <td>5.0</td>\n",
       "      <td>1.0</td>\n",
       "      <td>27.0</td>\n",
       "      <td>22.0</td>\n",
       "      <td>17.0</td>\n",
       "      <td>31.0</td>\n",
       "      <td>10.0</td>\n",
       "      <td>31.0</td>\n",
       "      <td>25.0</td>\n",
       "      <td>14.0</td>\n",
       "      <td>...</td>\n",
       "      <td>25.0</td>\n",
       "      <td>23.0</td>\n",
       "      <td>14.0</td>\n",
       "      <td>4.0</td>\n",
       "      <td>4.0</td>\n",
       "      <td>1.0</td>\n",
       "      <td>5.0</td>\n",
       "      <td>5.0</td>\n",
       "      <td>8.0</td>\n",
       "      <td>20.0</td>\n",
       "    </tr>\n",
       "    <tr>\n",
       "      <th>Tuesday</th>\n",
       "      <td>6.0</td>\n",
       "      <td>1.0</td>\n",
       "      <td>13.0</td>\n",
       "      <td>27.0</td>\n",
       "      <td>10.0</td>\n",
       "      <td>10.0</td>\n",
       "      <td>44.0</td>\n",
       "      <td>40.0</td>\n",
       "      <td>18.0</td>\n",
       "      <td>15.0</td>\n",
       "      <td>...</td>\n",
       "      <td>38.0</td>\n",
       "      <td>36.0</td>\n",
       "      <td>21.0</td>\n",
       "      <td>10.0</td>\n",
       "      <td>1.0</td>\n",
       "      <td>1.0</td>\n",
       "      <td>2.0</td>\n",
       "      <td>8.0</td>\n",
       "      <td>5.0</td>\n",
       "      <td>12.0</td>\n",
       "    </tr>\n",
       "    <tr>\n",
       "      <th>Wednesday</th>\n",
       "      <td>4.0</td>\n",
       "      <td>30.0</td>\n",
       "      <td>42.0</td>\n",
       "      <td>26.0</td>\n",
       "      <td>20.0</td>\n",
       "      <td>15.0</td>\n",
       "      <td>35.0</td>\n",
       "      <td>43.0</td>\n",
       "      <td>83.0</td>\n",
       "      <td>28.0</td>\n",
       "      <td>...</td>\n",
       "      <td>45.0</td>\n",
       "      <td>17.0</td>\n",
       "      <td>52.0</td>\n",
       "      <td>2.0</td>\n",
       "      <td>2.0</td>\n",
       "      <td>1.0</td>\n",
       "      <td>5.0</td>\n",
       "      <td>21.0</td>\n",
       "      <td>12.0</td>\n",
       "      <td>50.0</td>\n",
       "    </tr>\n",
       "  </tbody>\n",
       "</table>\n",
       "<p>7 rows × 24 columns</p>\n",
       "</div>"
      ],
      "text/plain": [
       "period     00-1   1-2  10-11  11-12  12-13  13-14  14-15  15-16  16-17  17-18  \\\n",
       "day                                                                             \n",
       "Friday     14.0   1.0   20.0   25.0   75.0   60.0   24.0  104.0   33.0   25.0   \n",
       "Monday      4.0   3.0   14.0   20.0   18.0   18.0   79.0   84.0   15.0   13.0   \n",
       "Saturday    4.0   3.0    7.0   14.0   25.0   15.0   42.0   12.0   19.0    7.0   \n",
       "Sunday     13.0  87.0   64.0   13.0   15.0   53.0   11.0    9.0   18.0   16.0   \n",
       "Thursday    5.0   1.0   27.0   22.0   17.0   31.0   10.0   31.0   25.0   14.0   \n",
       "Tuesday     6.0   1.0   13.0   27.0   10.0   10.0   44.0   40.0   18.0   15.0   \n",
       "Wednesday   4.0  30.0   42.0   26.0   20.0   15.0   35.0   43.0   83.0   28.0   \n",
       "\n",
       "period     ...  21-22  22-23  23-00   3-4  4-5  5-6  6-7   7-8   8-9  9-10  \n",
       "day        ...                                                              \n",
       "Friday     ...    7.0   58.0   31.0   6.0  8.0  2.0  4.0  13.0   5.0  44.0  \n",
       "Monday     ...    4.0   54.0   11.0   3.0  0.0  1.0  3.0   6.0   6.0  48.0  \n",
       "Saturday   ...   43.0   13.0  130.0   4.0  4.0  8.0  1.0  10.0  15.0  10.0  \n",
       "Sunday     ...   28.0   25.0   19.0   4.0  2.0  1.0  3.0   3.0   4.0   6.0  \n",
       "Thursday   ...   25.0   23.0   14.0   4.0  4.0  1.0  5.0   5.0   8.0  20.0  \n",
       "Tuesday    ...   38.0   36.0   21.0  10.0  1.0  1.0  2.0   8.0   5.0  12.0  \n",
       "Wednesday  ...   45.0   17.0   52.0   2.0  2.0  1.0  5.0  21.0  12.0  50.0  \n",
       "\n",
       "[7 rows x 24 columns]"
      ]
     },
     "execution_count": 79,
     "metadata": {},
     "output_type": "execute_result"
    }
   ],
   "source": [
    "user_heatmap = df.pivot_table(index='day', columns='period', values='massages', aggfunc='count').fillna(0)\n",
    "user_heatmap"
   ]
  },
  {
   "cell_type": "code",
   "execution_count": null,
   "id": "c57a4442",
   "metadata": {},
   "outputs": [],
   "source": []
  }
 ],
 "metadata": {
  "kernelspec": {
   "display_name": "Python 3 (ipykernel)",
   "language": "python",
   "name": "python3"
  },
  "language_info": {
   "codemirror_mode": {
    "name": "ipython",
    "version": 3
   },
   "file_extension": ".py",
   "mimetype": "text/x-python",
   "name": "python",
   "nbconvert_exporter": "python",
   "pygments_lexer": "ipython3",
   "version": "3.11.4"
  }
 },
 "nbformat": 4,
 "nbformat_minor": 5
}
